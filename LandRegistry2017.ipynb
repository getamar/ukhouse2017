{
 "cells": [
  {
   "cell_type": "code",
   "execution_count": 1,
   "metadata": {
    "collapsed": true
   },
   "outputs": [],
   "source": [
    "import pandas as pd\n",
    "import numpy as np"
   ]
  },
  {
   "cell_type": "code",
   "execution_count": null,
   "metadata": {
    "collapsed": true
   },
   "outputs": [],
   "source": [
    "pricepaid2017.csv is the dataset downloaded from UK land registry on 21 June 2017\n",
    "https://www.gov.uk/government/statistical-data-sets/price-paid-data-downloads\n",
    "Data produced by HM Land Registry © Crown copyright 2017.\n",
    "Dataset used for educational purpose only"
   ]
  },
  {
   "cell_type": "code",
   "execution_count": null,
   "metadata": {
    "collapsed": true
   },
   "outputs": [],
   "source": [
    "Let us take take this dataset and try to do some data exploration"
   ]
  },
  {
   "cell_type": "code",
   "execution_count": 8,
   "metadata": {
    "collapsed": true
   },
   "outputs": [],
   "source": [
    "ld = pd.read_csv('pricepaid2017.csv', header = None)"
   ]
  },
  {
   "cell_type": "code",
   "execution_count": 9,
   "metadata": {
    "collapsed": false
   },
   "outputs": [
    {
     "data": {
      "text/html": [
       "<div>\n",
       "<table border=\"1\" class=\"dataframe\">\n",
       "  <thead>\n",
       "    <tr style=\"text-align: right;\">\n",
       "      <th></th>\n",
       "      <th>1</th>\n",
       "    </tr>\n",
       "  </thead>\n",
       "  <tbody>\n",
       "    <tr>\n",
       "      <th>count</th>\n",
       "      <td>2.150320e+05</td>\n",
       "    </tr>\n",
       "    <tr>\n",
       "      <th>mean</th>\n",
       "      <td>3.243298e+05</td>\n",
       "    </tr>\n",
       "    <tr>\n",
       "      <th>std</th>\n",
       "      <td>9.594755e+05</td>\n",
       "    </tr>\n",
       "    <tr>\n",
       "      <th>min</th>\n",
       "      <td>1.000000e+00</td>\n",
       "    </tr>\n",
       "    <tr>\n",
       "      <th>25%</th>\n",
       "      <td>1.350000e+05</td>\n",
       "    </tr>\n",
       "    <tr>\n",
       "      <th>50%</th>\n",
       "      <td>2.150000e+05</td>\n",
       "    </tr>\n",
       "    <tr>\n",
       "      <th>75%</th>\n",
       "      <td>3.400000e+05</td>\n",
       "    </tr>\n",
       "    <tr>\n",
       "      <th>max</th>\n",
       "      <td>1.255000e+08</td>\n",
       "    </tr>\n",
       "  </tbody>\n",
       "</table>\n",
       "</div>"
      ],
      "text/plain": [
       "                  1\n",
       "count  2.150320e+05\n",
       "mean   3.243298e+05\n",
       "std    9.594755e+05\n",
       "min    1.000000e+00\n",
       "25%    1.350000e+05\n",
       "50%    2.150000e+05\n",
       "75%    3.400000e+05\n",
       "max    1.255000e+08"
      ]
     },
     "execution_count": 9,
     "metadata": {},
     "output_type": "execute_result"
    }
   ],
   "source": [
    "ld.describe()"
   ]
  },
  {
   "cell_type": "code",
   "execution_count": 55,
   "metadata": {
    "collapsed": false
   },
   "outputs": [
    {
     "data": {
      "text/plain": [
       "count    2.150320e+05\n",
       "mean     3.243298e+05\n",
       "std      9.594755e+05\n",
       "min      1.000000e+00\n",
       "25%      1.350000e+05\n",
       "50%      2.150000e+05\n",
       "75%      3.400000e+05\n",
       "max      1.255000e+08\n",
       "Name: Price Paid, dtype: float64"
      ]
     },
     "execution_count": 55,
     "metadata": {},
     "output_type": "execute_result"
    }
   ],
   "source": [
    "ld['Price Paid'].describe()"
   ]
  },
  {
   "cell_type": "code",
   "execution_count": null,
   "metadata": {
    "collapsed": true
   },
   "outputs": [],
   "source": [
    "You can see the avg house bought is £324329 and max price paid is 1.25 * 10^8 = £125 million"
   ]
  },
  {
   "cell_type": "code",
   "execution_count": 63,
   "metadata": {
    "collapsed": false
   },
   "outputs": [
    {
     "data": {
      "text/plain": [
       "(215032, 16)"
      ]
     },
     "execution_count": 63,
     "metadata": {},
     "output_type": "execute_result"
    }
   ],
   "source": [
    "ld.shape"
   ]
  },
  {
   "cell_type": "code",
   "execution_count": 64,
   "metadata": {
    "collapsed": false
   },
   "outputs": [
    {
     "data": {
      "text/plain": [
       "125500000"
      ]
     },
     "execution_count": 64,
     "metadata": {},
     "output_type": "execute_result"
    }
   ],
   "source": [
    "ld['Price Paid'].max()"
   ]
  },
  {
   "cell_type": "code",
   "execution_count": 11,
   "metadata": {
    "collapsed": false
   },
   "outputs": [
    {
     "data": {
      "text/html": [
       "<div>\n",
       "<table border=\"1\" class=\"dataframe\">\n",
       "  <thead>\n",
       "    <tr style=\"text-align: right;\">\n",
       "      <th></th>\n",
       "      <th>0</th>\n",
       "      <th>1</th>\n",
       "      <th>2</th>\n",
       "      <th>3</th>\n",
       "      <th>4</th>\n",
       "      <th>5</th>\n",
       "      <th>6</th>\n",
       "      <th>7</th>\n",
       "      <th>8</th>\n",
       "      <th>9</th>\n",
       "      <th>10</th>\n",
       "      <th>11</th>\n",
       "      <th>12</th>\n",
       "      <th>13</th>\n",
       "      <th>14</th>\n",
       "      <th>15</th>\n",
       "    </tr>\n",
       "  </thead>\n",
       "  <tbody>\n",
       "    <tr>\n",
       "      <th>0</th>\n",
       "      <td>{4E95D757-A215-EDA1-E050-A8C0630539E2}</td>\n",
       "      <td>983000</td>\n",
       "      <td>2017-03-29 00:00</td>\n",
       "      <td>EN1 2PF</td>\n",
       "      <td>D</td>\n",
       "      <td>N</td>\n",
       "      <td>F</td>\n",
       "      <td>31</td>\n",
       "      <td>NaN</td>\n",
       "      <td>WELLINGTON ROAD</td>\n",
       "      <td>NaN</td>\n",
       "      <td>ENFIELD</td>\n",
       "      <td>ENFIELD</td>\n",
       "      <td>GREATER LONDON</td>\n",
       "      <td>A</td>\n",
       "      <td>A</td>\n",
       "    </tr>\n",
       "    <tr>\n",
       "      <th>1</th>\n",
       "      <td>{4E95D757-A216-EDA1-E050-A8C0630539E2}</td>\n",
       "      <td>450000</td>\n",
       "      <td>2017-04-12 00:00</td>\n",
       "      <td>HA1 1PE</td>\n",
       "      <td>T</td>\n",
       "      <td>N</td>\n",
       "      <td>F</td>\n",
       "      <td>70</td>\n",
       "      <td>NaN</td>\n",
       "      <td>HEADSTONE ROAD</td>\n",
       "      <td>NaN</td>\n",
       "      <td>HARROW</td>\n",
       "      <td>HARROW</td>\n",
       "      <td>GREATER LONDON</td>\n",
       "      <td>A</td>\n",
       "      <td>A</td>\n",
       "    </tr>\n",
       "    <tr>\n",
       "      <th>2</th>\n",
       "      <td>{4E95D757-A217-EDA1-E050-A8C0630539E2}</td>\n",
       "      <td>415000</td>\n",
       "      <td>2017-03-16 00:00</td>\n",
       "      <td>TW13 6TE</td>\n",
       "      <td>S</td>\n",
       "      <td>N</td>\n",
       "      <td>F</td>\n",
       "      <td>19</td>\n",
       "      <td>NaN</td>\n",
       "      <td>CONWAY ROAD</td>\n",
       "      <td>NaN</td>\n",
       "      <td>FELTHAM</td>\n",
       "      <td>HOUNSLOW</td>\n",
       "      <td>GREATER LONDON</td>\n",
       "      <td>A</td>\n",
       "      <td>A</td>\n",
       "    </tr>\n",
       "    <tr>\n",
       "      <th>3</th>\n",
       "      <td>{4E95D757-A218-EDA1-E050-A8C0630539E2}</td>\n",
       "      <td>472000</td>\n",
       "      <td>2017-03-31 00:00</td>\n",
       "      <td>UB6 9NY</td>\n",
       "      <td>S</td>\n",
       "      <td>N</td>\n",
       "      <td>F</td>\n",
       "      <td>95</td>\n",
       "      <td>NaN</td>\n",
       "      <td>CHINNOR CRESCENT</td>\n",
       "      <td>NaN</td>\n",
       "      <td>GREENFORD</td>\n",
       "      <td>EALING</td>\n",
       "      <td>GREATER LONDON</td>\n",
       "      <td>A</td>\n",
       "      <td>A</td>\n",
       "    </tr>\n",
       "    <tr>\n",
       "      <th>4</th>\n",
       "      <td>{4E95D757-A219-EDA1-E050-A8C0630539E2}</td>\n",
       "      <td>682500</td>\n",
       "      <td>2017-03-06 00:00</td>\n",
       "      <td>W7 2JS</td>\n",
       "      <td>S</td>\n",
       "      <td>N</td>\n",
       "      <td>F</td>\n",
       "      <td>17</td>\n",
       "      <td>NaN</td>\n",
       "      <td>SEWARD ROAD</td>\n",
       "      <td>NaN</td>\n",
       "      <td>LONDON</td>\n",
       "      <td>EALING</td>\n",
       "      <td>GREATER LONDON</td>\n",
       "      <td>A</td>\n",
       "      <td>A</td>\n",
       "    </tr>\n",
       "  </tbody>\n",
       "</table>\n",
       "</div>"
      ],
      "text/plain": [
       "                                       0       1                 2         3   \\\n",
       "0  {4E95D757-A215-EDA1-E050-A8C0630539E2}  983000  2017-03-29 00:00   EN1 2PF   \n",
       "1  {4E95D757-A216-EDA1-E050-A8C0630539E2}  450000  2017-04-12 00:00   HA1 1PE   \n",
       "2  {4E95D757-A217-EDA1-E050-A8C0630539E2}  415000  2017-03-16 00:00  TW13 6TE   \n",
       "3  {4E95D757-A218-EDA1-E050-A8C0630539E2}  472000  2017-03-31 00:00   UB6 9NY   \n",
       "4  {4E95D757-A219-EDA1-E050-A8C0630539E2}  682500  2017-03-06 00:00    W7 2JS   \n",
       "\n",
       "  4  5  6   7    8                 9    10         11        12  \\\n",
       "0  D  N  F  31  NaN   WELLINGTON ROAD  NaN    ENFIELD   ENFIELD   \n",
       "1  T  N  F  70  NaN    HEADSTONE ROAD  NaN     HARROW    HARROW   \n",
       "2  S  N  F  19  NaN       CONWAY ROAD  NaN    FELTHAM  HOUNSLOW   \n",
       "3  S  N  F  95  NaN  CHINNOR CRESCENT  NaN  GREENFORD    EALING   \n",
       "4  S  N  F  17  NaN       SEWARD ROAD  NaN     LONDON    EALING   \n",
       "\n",
       "               13 14 15  \n",
       "0  GREATER LONDON  A  A  \n",
       "1  GREATER LONDON  A  A  \n",
       "2  GREATER LONDON  A  A  \n",
       "3  GREATER LONDON  A  A  \n",
       "4  GREATER LONDON  A  A  "
      ]
     },
     "execution_count": 11,
     "metadata": {},
     "output_type": "execute_result"
    }
   ],
   "source": [
    "ld.head()"
   ]
  },
  {
   "cell_type": "code",
   "execution_count": 69,
   "metadata": {
    "collapsed": false
   },
   "outputs": [
    {
     "data": {
      "text/plain": [
       "False"
      ]
     },
     "execution_count": 69,
     "metadata": {},
     "output_type": "execute_result"
    }
   ],
   "source": [
    "ld['Price Paid'].isnull().any()"
   ]
  },
  {
   "cell_type": "code",
   "execution_count": 72,
   "metadata": {
    "collapsed": false
   },
   "outputs": [
    {
     "data": {
      "text/html": [
       "<div>\n",
       "<table border=\"1\" class=\"dataframe\">\n",
       "  <thead>\n",
       "    <tr style=\"text-align: right;\">\n",
       "      <th></th>\n",
       "      <th>serial</th>\n",
       "      <th>Price Paid</th>\n",
       "      <th>Date</th>\n",
       "      <th>PostCode</th>\n",
       "      <th>House Type</th>\n",
       "      <th>N1</th>\n",
       "      <th>Freehold</th>\n",
       "      <th>No</th>\n",
       "      <th>No2</th>\n",
       "      <th>Road</th>\n",
       "      <th>Area</th>\n",
       "      <th>Town</th>\n",
       "      <th>Town2</th>\n",
       "      <th>Council</th>\n",
       "      <th>N2</th>\n",
       "      <th>N3</th>\n",
       "    </tr>\n",
       "  </thead>\n",
       "  <tbody>\n",
       "    <tr>\n",
       "      <th>6429</th>\n",
       "      <td>{4E95D757-A812-EDA1-E050-A8C0630539E2}</td>\n",
       "      <td>125500000</td>\n",
       "      <td>2017-02-27 00:00</td>\n",
       "      <td>WC2R 1AB</td>\n",
       "      <td>F</td>\n",
       "      <td>Y</td>\n",
       "      <td>L</td>\n",
       "      <td>CLEMENT HOUSE, 190</td>\n",
       "      <td>APARTMENT 28</td>\n",
       "      <td>STRAND</td>\n",
       "      <td>NaN</td>\n",
       "      <td>LONDON</td>\n",
       "      <td>CITY OF WESTMINSTER</td>\n",
       "      <td>GREATER LONDON</td>\n",
       "      <td>A</td>\n",
       "      <td>A</td>\n",
       "    </tr>\n",
       "  </tbody>\n",
       "</table>\n",
       "</div>"
      ],
      "text/plain": [
       "                                      serial  Price Paid              Date  \\\n",
       "6429  {4E95D757-A812-EDA1-E050-A8C0630539E2}   125500000  2017-02-27 00:00   \n",
       "\n",
       "      PostCode House Type N1 Freehold                  No           No2  \\\n",
       "6429  WC2R 1AB          F  Y        L  CLEMENT HOUSE, 190  APARTMENT 28   \n",
       "\n",
       "        Road Area    Town                Town2         Council N2 N3  \n",
       "6429  STRAND  NaN  LONDON  CITY OF WESTMINSTER  GREATER LONDON  A  A  "
      ]
     },
     "execution_count": 72,
     "metadata": {},
     "output_type": "execute_result"
    }
   ],
   "source": [
    "ld[ld['Price Paid'] == ld['Price Paid'].max()]\n",
    "#Now we know how to access the row of the data frame in pandas where one of the one of column value is max"
   ]
  },
  {
   "cell_type": "code",
   "execution_count": null,
   "metadata": {
    "collapsed": true
   },
   "outputs": [],
   "source": [
    "What! A flat in leasehold for 125.5 mn"
   ]
  },
  {
   "cell_type": "code",
   "execution_count": 75,
   "metadata": {
    "collapsed": false
   },
   "outputs": [
    {
     "data": {
      "text/html": [
       "<div>\n",
       "<table border=\"1\" class=\"dataframe\">\n",
       "  <thead>\n",
       "    <tr style=\"text-align: right;\">\n",
       "      <th></th>\n",
       "      <th>serial</th>\n",
       "      <th>Price Paid</th>\n",
       "      <th>Date</th>\n",
       "      <th>PostCode</th>\n",
       "      <th>House Type</th>\n",
       "      <th>N1</th>\n",
       "      <th>Freehold</th>\n",
       "      <th>No</th>\n",
       "      <th>No2</th>\n",
       "      <th>Road</th>\n",
       "      <th>Area</th>\n",
       "      <th>Town</th>\n",
       "      <th>Town2</th>\n",
       "      <th>Council</th>\n",
       "      <th>N2</th>\n",
       "      <th>N3</th>\n",
       "    </tr>\n",
       "  </thead>\n",
       "  <tbody>\n",
       "    <tr>\n",
       "      <th>82960</th>\n",
       "      <td>{4E95D757-6007-EDA1-E050-A8C0630539E2}</td>\n",
       "      <td>1</td>\n",
       "      <td>2017-03-30 00:00</td>\n",
       "      <td>SS3 0AT</td>\n",
       "      <td>S</td>\n",
       "      <td>N</td>\n",
       "      <td>F</td>\n",
       "      <td>48</td>\n",
       "      <td>NaN</td>\n",
       "      <td>VICTORIA DRIVE</td>\n",
       "      <td>GREAT WAKERING</td>\n",
       "      <td>SOUTHEND-ON-SEA</td>\n",
       "      <td>ROCHFORD</td>\n",
       "      <td>ESSEX</td>\n",
       "      <td>A</td>\n",
       "      <td>A</td>\n",
       "    </tr>\n",
       "  </tbody>\n",
       "</table>\n",
       "</div>"
      ],
      "text/plain": [
       "                                       serial  Price Paid              Date  \\\n",
       "82960  {4E95D757-6007-EDA1-E050-A8C0630539E2}           1  2017-03-30 00:00   \n",
       "\n",
       "      PostCode House Type N1 Freehold  No  No2            Road  \\\n",
       "82960  SS3 0AT          S  N        F  48  NaN  VICTORIA DRIVE   \n",
       "\n",
       "                 Area             Town     Town2 Council N2 N3  \n",
       "82960  GREAT WAKERING  SOUTHEND-ON-SEA  ROCHFORD   ESSEX  A  A  "
      ]
     },
     "execution_count": 75,
     "metadata": {},
     "output_type": "execute_result"
    }
   ],
   "source": [
    "ld[ld['Price Paid'] == ld['Price Paid'].min()]"
   ]
  },
  {
   "cell_type": "code",
   "execution_count": 74,
   "metadata": {
    "collapsed": false
   },
   "outputs": [],
   "source": [
    "ld_clean = ld"
   ]
  },
  {
   "cell_type": "code",
   "execution_count": 73,
   "metadata": {
    "collapsed": false
   },
   "outputs": [
    {
     "data": {
      "text/html": [
       "<div>\n",
       "<table border=\"1\" class=\"dataframe\">\n",
       "  <thead>\n",
       "    <tr style=\"text-align: right;\">\n",
       "      <th></th>\n",
       "      <th>Price Paid</th>\n",
       "      <th>Date</th>\n",
       "      <th>PostCode</th>\n",
       "      <th>House Type</th>\n",
       "      <th>Freehold</th>\n",
       "      <th>No</th>\n",
       "      <th>No2</th>\n",
       "      <th>Road</th>\n",
       "      <th>Area</th>\n",
       "      <th>Town</th>\n",
       "      <th>Town2</th>\n",
       "      <th>Council</th>\n",
       "    </tr>\n",
       "  </thead>\n",
       "  <tbody>\n",
       "    <tr>\n",
       "      <th>0</th>\n",
       "      <td>983000</td>\n",
       "      <td>2017-03-29 00:00</td>\n",
       "      <td>EN1 2PF</td>\n",
       "      <td>D</td>\n",
       "      <td>F</td>\n",
       "      <td>31</td>\n",
       "      <td>NaN</td>\n",
       "      <td>WELLINGTON ROAD</td>\n",
       "      <td>NaN</td>\n",
       "      <td>ENFIELD</td>\n",
       "      <td>ENFIELD</td>\n",
       "      <td>GREATER LONDON</td>\n",
       "    </tr>\n",
       "    <tr>\n",
       "      <th>1</th>\n",
       "      <td>450000</td>\n",
       "      <td>2017-04-12 00:00</td>\n",
       "      <td>HA1 1PE</td>\n",
       "      <td>T</td>\n",
       "      <td>F</td>\n",
       "      <td>70</td>\n",
       "      <td>NaN</td>\n",
       "      <td>HEADSTONE ROAD</td>\n",
       "      <td>NaN</td>\n",
       "      <td>HARROW</td>\n",
       "      <td>HARROW</td>\n",
       "      <td>GREATER LONDON</td>\n",
       "    </tr>\n",
       "    <tr>\n",
       "      <th>2</th>\n",
       "      <td>415000</td>\n",
       "      <td>2017-03-16 00:00</td>\n",
       "      <td>TW13 6TE</td>\n",
       "      <td>S</td>\n",
       "      <td>F</td>\n",
       "      <td>19</td>\n",
       "      <td>NaN</td>\n",
       "      <td>CONWAY ROAD</td>\n",
       "      <td>NaN</td>\n",
       "      <td>FELTHAM</td>\n",
       "      <td>HOUNSLOW</td>\n",
       "      <td>GREATER LONDON</td>\n",
       "    </tr>\n",
       "    <tr>\n",
       "      <th>3</th>\n",
       "      <td>472000</td>\n",
       "      <td>2017-03-31 00:00</td>\n",
       "      <td>UB6 9NY</td>\n",
       "      <td>S</td>\n",
       "      <td>F</td>\n",
       "      <td>95</td>\n",
       "      <td>NaN</td>\n",
       "      <td>CHINNOR CRESCENT</td>\n",
       "      <td>NaN</td>\n",
       "      <td>GREENFORD</td>\n",
       "      <td>EALING</td>\n",
       "      <td>GREATER LONDON</td>\n",
       "    </tr>\n",
       "    <tr>\n",
       "      <th>4</th>\n",
       "      <td>682500</td>\n",
       "      <td>2017-03-06 00:00</td>\n",
       "      <td>W7 2JS</td>\n",
       "      <td>S</td>\n",
       "      <td>F</td>\n",
       "      <td>17</td>\n",
       "      <td>NaN</td>\n",
       "      <td>SEWARD ROAD</td>\n",
       "      <td>NaN</td>\n",
       "      <td>LONDON</td>\n",
       "      <td>EALING</td>\n",
       "      <td>GREATER LONDON</td>\n",
       "    </tr>\n",
       "  </tbody>\n",
       "</table>\n",
       "</div>"
      ],
      "text/plain": [
       "   Price Paid              Date  PostCode House Type Freehold  No  No2  \\\n",
       "0      983000  2017-03-29 00:00   EN1 2PF          D        F  31  NaN   \n",
       "1      450000  2017-04-12 00:00   HA1 1PE          T        F  70  NaN   \n",
       "2      415000  2017-03-16 00:00  TW13 6TE          S        F  19  NaN   \n",
       "3      472000  2017-03-31 00:00   UB6 9NY          S        F  95  NaN   \n",
       "4      682500  2017-03-06 00:00    W7 2JS          S        F  17  NaN   \n",
       "\n",
       "               Road Area       Town     Town2         Council  \n",
       "0   WELLINGTON ROAD  NaN    ENFIELD   ENFIELD  GREATER LONDON  \n",
       "1    HEADSTONE ROAD  NaN     HARROW    HARROW  GREATER LONDON  \n",
       "2       CONWAY ROAD  NaN    FELTHAM  HOUNSLOW  GREATER LONDON  \n",
       "3  CHINNOR CRESCENT  NaN  GREENFORD    EALING  GREATER LONDON  \n",
       "4       SEWARD ROAD  NaN     LONDON    EALING  GREATER LONDON  "
      ]
     },
     "execution_count": 73,
     "metadata": {},
     "output_type": "execute_result"
    }
   ],
   "source": [
    "ld_clean.head()"
   ]
  },
  {
   "cell_type": "code",
   "execution_count": 16,
   "metadata": {
    "collapsed": true
   },
   "outputs": [],
   "source": [
    "ld.columns = ['serial','Price Paid', 'Date', 'PostCode','House Type','N1','Freehold','No','No2','Road','Area','Town','Town2','Council','N2','N3']"
   ]
  },
  {
   "cell_type": "code",
   "execution_count": 19,
   "metadata": {
    "collapsed": false
   },
   "outputs": [],
   "source": [
    "ld_clean = ld.drop(['serial','N1','N2','N3'], axis = 1)"
   ]
  },
  {
   "cell_type": "code",
   "execution_count": 20,
   "metadata": {
    "collapsed": false
   },
   "outputs": [
    {
     "data": {
      "text/html": [
       "<div>\n",
       "<table border=\"1\" class=\"dataframe\">\n",
       "  <thead>\n",
       "    <tr style=\"text-align: right;\">\n",
       "      <th></th>\n",
       "      <th>Price Paid</th>\n",
       "      <th>Date</th>\n",
       "      <th>PostCode</th>\n",
       "      <th>House Type</th>\n",
       "      <th>Freehold</th>\n",
       "      <th>No</th>\n",
       "      <th>No2</th>\n",
       "      <th>Road</th>\n",
       "      <th>Area</th>\n",
       "      <th>Town</th>\n",
       "      <th>Town2</th>\n",
       "      <th>Council</th>\n",
       "    </tr>\n",
       "  </thead>\n",
       "  <tbody>\n",
       "    <tr>\n",
       "      <th>0</th>\n",
       "      <td>983000</td>\n",
       "      <td>2017-03-29 00:00</td>\n",
       "      <td>EN1 2PF</td>\n",
       "      <td>D</td>\n",
       "      <td>F</td>\n",
       "      <td>31</td>\n",
       "      <td>NaN</td>\n",
       "      <td>WELLINGTON ROAD</td>\n",
       "      <td>NaN</td>\n",
       "      <td>ENFIELD</td>\n",
       "      <td>ENFIELD</td>\n",
       "      <td>GREATER LONDON</td>\n",
       "    </tr>\n",
       "    <tr>\n",
       "      <th>1</th>\n",
       "      <td>450000</td>\n",
       "      <td>2017-04-12 00:00</td>\n",
       "      <td>HA1 1PE</td>\n",
       "      <td>T</td>\n",
       "      <td>F</td>\n",
       "      <td>70</td>\n",
       "      <td>NaN</td>\n",
       "      <td>HEADSTONE ROAD</td>\n",
       "      <td>NaN</td>\n",
       "      <td>HARROW</td>\n",
       "      <td>HARROW</td>\n",
       "      <td>GREATER LONDON</td>\n",
       "    </tr>\n",
       "    <tr>\n",
       "      <th>2</th>\n",
       "      <td>415000</td>\n",
       "      <td>2017-03-16 00:00</td>\n",
       "      <td>TW13 6TE</td>\n",
       "      <td>S</td>\n",
       "      <td>F</td>\n",
       "      <td>19</td>\n",
       "      <td>NaN</td>\n",
       "      <td>CONWAY ROAD</td>\n",
       "      <td>NaN</td>\n",
       "      <td>FELTHAM</td>\n",
       "      <td>HOUNSLOW</td>\n",
       "      <td>GREATER LONDON</td>\n",
       "    </tr>\n",
       "    <tr>\n",
       "      <th>3</th>\n",
       "      <td>472000</td>\n",
       "      <td>2017-03-31 00:00</td>\n",
       "      <td>UB6 9NY</td>\n",
       "      <td>S</td>\n",
       "      <td>F</td>\n",
       "      <td>95</td>\n",
       "      <td>NaN</td>\n",
       "      <td>CHINNOR CRESCENT</td>\n",
       "      <td>NaN</td>\n",
       "      <td>GREENFORD</td>\n",
       "      <td>EALING</td>\n",
       "      <td>GREATER LONDON</td>\n",
       "    </tr>\n",
       "    <tr>\n",
       "      <th>4</th>\n",
       "      <td>682500</td>\n",
       "      <td>2017-03-06 00:00</td>\n",
       "      <td>W7 2JS</td>\n",
       "      <td>S</td>\n",
       "      <td>F</td>\n",
       "      <td>17</td>\n",
       "      <td>NaN</td>\n",
       "      <td>SEWARD ROAD</td>\n",
       "      <td>NaN</td>\n",
       "      <td>LONDON</td>\n",
       "      <td>EALING</td>\n",
       "      <td>GREATER LONDON</td>\n",
       "    </tr>\n",
       "  </tbody>\n",
       "</table>\n",
       "</div>"
      ],
      "text/plain": [
       "   Price Paid              Date  PostCode House Type Freehold  No  No2  \\\n",
       "0      983000  2017-03-29 00:00   EN1 2PF          D        F  31  NaN   \n",
       "1      450000  2017-04-12 00:00   HA1 1PE          T        F  70  NaN   \n",
       "2      415000  2017-03-16 00:00  TW13 6TE          S        F  19  NaN   \n",
       "3      472000  2017-03-31 00:00   UB6 9NY          S        F  95  NaN   \n",
       "4      682500  2017-03-06 00:00    W7 2JS          S        F  17  NaN   \n",
       "\n",
       "               Road Area       Town     Town2         Council  \n",
       "0   WELLINGTON ROAD  NaN    ENFIELD   ENFIELD  GREATER LONDON  \n",
       "1    HEADSTONE ROAD  NaN     HARROW    HARROW  GREATER LONDON  \n",
       "2       CONWAY ROAD  NaN    FELTHAM  HOUNSLOW  GREATER LONDON  \n",
       "3  CHINNOR CRESCENT  NaN  GREENFORD    EALING  GREATER LONDON  \n",
       "4       SEWARD ROAD  NaN     LONDON    EALING  GREATER LONDON  "
      ]
     },
     "execution_count": 20,
     "metadata": {},
     "output_type": "execute_result"
    }
   ],
   "source": [
    "ld_clean.head()"
   ]
  },
  {
   "cell_type": "code",
   "execution_count": 22,
   "metadata": {
    "collapsed": false
   },
   "outputs": [
    {
     "data": {
      "text/plain": [
       "1021798331"
      ]
     },
     "execution_count": 22,
     "metadata": {},
     "output_type": "execute_result"
    }
   ],
   "source": [
    "ld_clean['Price Paid'].sum()\n",
    "#This indicates the amount paid to land registry in the year 2017"
   ]
  },
  {
   "cell_type": "code",
   "execution_count": 23,
   "metadata": {
    "collapsed": false
   },
   "outputs": [
    {
     "data": {
      "text/html": [
       "<div>\n",
       "<table border=\"1\" class=\"dataframe\">\n",
       "  <thead>\n",
       "    <tr style=\"text-align: right;\">\n",
       "      <th></th>\n",
       "      <th>Price Paid</th>\n",
       "      <th>Date</th>\n",
       "      <th>PostCode</th>\n",
       "      <th>House Type</th>\n",
       "      <th>Freehold</th>\n",
       "      <th>No</th>\n",
       "      <th>No2</th>\n",
       "      <th>Road</th>\n",
       "      <th>Area</th>\n",
       "      <th>Town</th>\n",
       "      <th>Town2</th>\n",
       "      <th>Council</th>\n",
       "    </tr>\n",
       "  </thead>\n",
       "  <tbody>\n",
       "    <tr>\n",
       "      <th>215027</th>\n",
       "      <td>115000</td>\n",
       "      <td>2017-02-27 00:00</td>\n",
       "      <td>BD13 2QA</td>\n",
       "      <td>S</td>\n",
       "      <td>F</td>\n",
       "      <td>39</td>\n",
       "      <td>NaN</td>\n",
       "      <td>CHAPEL LANE</td>\n",
       "      <td>QUEENSBURY</td>\n",
       "      <td>BRADFORD</td>\n",
       "      <td>BRADFORD</td>\n",
       "      <td>WEST YORKSHIRE</td>\n",
       "    </tr>\n",
       "    <tr>\n",
       "      <th>215028</th>\n",
       "      <td>300000</td>\n",
       "      <td>2017-03-22 00:00</td>\n",
       "      <td>WF15 6HY</td>\n",
       "      <td>D</td>\n",
       "      <td>F</td>\n",
       "      <td>10</td>\n",
       "      <td>NaN</td>\n",
       "      <td>LOW HOUSE FOLD</td>\n",
       "      <td>NaN</td>\n",
       "      <td>LIVERSEDGE</td>\n",
       "      <td>KIRKLEES</td>\n",
       "      <td>WEST YORKSHIRE</td>\n",
       "    </tr>\n",
       "    <tr>\n",
       "      <th>215029</th>\n",
       "      <td>139000</td>\n",
       "      <td>2017-02-24 00:00</td>\n",
       "      <td>LS28 8DF</td>\n",
       "      <td>T</td>\n",
       "      <td>F</td>\n",
       "      <td>59</td>\n",
       "      <td>NaN</td>\n",
       "      <td>WATERLOO ROAD</td>\n",
       "      <td>NaN</td>\n",
       "      <td>PUDSEY</td>\n",
       "      <td>LEEDS</td>\n",
       "      <td>WEST YORKSHIRE</td>\n",
       "    </tr>\n",
       "    <tr>\n",
       "      <th>215030</th>\n",
       "      <td>277500</td>\n",
       "      <td>2017-04-13 00:00</td>\n",
       "      <td>LS26 0LW</td>\n",
       "      <td>S</td>\n",
       "      <td>F</td>\n",
       "      <td>65</td>\n",
       "      <td>NaN</td>\n",
       "      <td>HAIGH ROAD</td>\n",
       "      <td>ROTHWELL</td>\n",
       "      <td>LEEDS</td>\n",
       "      <td>LEEDS</td>\n",
       "      <td>WEST YORKSHIRE</td>\n",
       "    </tr>\n",
       "    <tr>\n",
       "      <th>215031</th>\n",
       "      <td>166000</td>\n",
       "      <td>2017-03-31 00:00</td>\n",
       "      <td>WF5 8NH</td>\n",
       "      <td>T</td>\n",
       "      <td>F</td>\n",
       "      <td>17</td>\n",
       "      <td>NaN</td>\n",
       "      <td>RYDALE COURT</td>\n",
       "      <td>NaN</td>\n",
       "      <td>OSSETT</td>\n",
       "      <td>WAKEFIELD</td>\n",
       "      <td>WEST YORKSHIRE</td>\n",
       "    </tr>\n",
       "  </tbody>\n",
       "</table>\n",
       "</div>"
      ],
      "text/plain": [
       "        Price Paid              Date  PostCode House Type Freehold  No  No2  \\\n",
       "215027      115000  2017-02-27 00:00  BD13 2QA          S        F  39  NaN   \n",
       "215028      300000  2017-03-22 00:00  WF15 6HY          D        F  10  NaN   \n",
       "215029      139000  2017-02-24 00:00  LS28 8DF          T        F  59  NaN   \n",
       "215030      277500  2017-04-13 00:00  LS26 0LW          S        F  65  NaN   \n",
       "215031      166000  2017-03-31 00:00   WF5 8NH          T        F  17  NaN   \n",
       "\n",
       "                  Road        Area        Town      Town2         Council  \n",
       "215027     CHAPEL LANE  QUEENSBURY    BRADFORD   BRADFORD  WEST YORKSHIRE  \n",
       "215028  LOW HOUSE FOLD         NaN  LIVERSEDGE   KIRKLEES  WEST YORKSHIRE  \n",
       "215029   WATERLOO ROAD         NaN      PUDSEY      LEEDS  WEST YORKSHIRE  \n",
       "215030      HAIGH ROAD    ROTHWELL       LEEDS      LEEDS  WEST YORKSHIRE  \n",
       "215031    RYDALE COURT         NaN      OSSETT  WAKEFIELD  WEST YORKSHIRE  "
      ]
     },
     "execution_count": 23,
     "metadata": {},
     "output_type": "execute_result"
    }
   ],
   "source": [
    "ld_clean.tail()"
   ]
  },
  {
   "cell_type": "code",
   "execution_count": 51,
   "metadata": {
    "collapsed": false
   },
   "outputs": [
    {
     "data": {
      "text/plain": [
       "House Type\n",
       "D    18396996213\n",
       "F    10822577571\n",
       "O    12512123295\n",
       "S    13810621979\n",
       "T    14198956009\n",
       "Name: Price Paid, dtype: int64"
      ]
     },
     "execution_count": 51,
     "metadata": {},
     "output_type": "execute_result"
    }
   ],
   "source": [
    "ld_clean.groupby(['House Type'])['Price Paid'].sum()"
   ]
  },
  {
   "cell_type": "code",
   "execution_count": 80,
   "metadata": {
    "collapsed": false
   },
   "outputs": [
    {
     "data": {
      "text/plain": [
       "Freehold\n",
       "F    54792829812\n",
       "L    14948445255\n",
       "Name: Price Paid, dtype: int64"
      ]
     },
     "execution_count": 80,
     "metadata": {},
     "output_type": "execute_result"
    }
   ],
   "source": [
    "ld_clean.groupby(['Freehold'])['Price Paid'].sum()"
   ]
  },
  {
   "cell_type": "code",
   "execution_count": 95,
   "metadata": {
    "collapsed": false
   },
   "outputs": [],
   "source": [
    "council = ld_clean.groupby(['Council'])['Price Paid'].sum()/ld_clean['Price Paid'].sum()\n",
    "#This gives the each councils contribution"
   ]
  },
  {
   "cell_type": "code",
   "execution_count": 96,
   "metadata": {
    "collapsed": false
   },
   "outputs": [
    {
     "data": {
      "text/plain": [
       "Council\n",
       "BATH AND NORTH EAST SOMERSET    0.274003\n",
       "BEDFORD                         0.178112\n",
       "BLACKBURN WITH DARWEN           0.060876\n",
       "BLACKPOOL                       0.095377\n",
       "BLAENAU GWENT                   0.018945\n",
       "BOURNEMOUTH                     0.268903\n",
       "BRACKNELL FOREST                0.201910\n",
       "BRIDGEND                        0.081893\n",
       "BRIGHTON AND HOVE               0.489794\n",
       "BUCKINGHAMSHIRE                 0.973151\n",
       "CAERPHILLY                      0.074847\n",
       "CAMBRIDGESHIRE                  0.855396\n",
       "CARDIFF                         0.311890\n",
       "CARMARTHENSHIRE                 0.110716\n",
       "CENTRAL BEDFORDSHIRE            0.544308\n",
       "CEREDIGION                      0.047569\n",
       "CHESHIRE EAST                   0.439261\n",
       "CHESHIRE WEST AND CHESTER       0.331354\n",
       "CITY OF BRISTOL                 0.588144\n",
       "CITY OF DERBY                   0.165366\n",
       "CITY OF KINGSTON UPON HULL      0.095882\n",
       "CITY OF NOTTINGHAM              0.284720\n",
       "CITY OF PETERBOROUGH            0.155910\n",
       "CITY OF PLYMOUTH                0.248054\n",
       "CONWY                           0.096616\n",
       "CORNWALL                        0.709803\n",
       "COUNTY DURHAM                   0.273703\n",
       "CUMBRIA                         0.388247\n",
       "DARLINGTON                      0.061256\n",
       "DENBIGHSHIRE                    0.055097\n",
       "                                  ...   \n",
       "SOMERSET                        0.761260\n",
       "SOUTH GLOUCESTERSHIRE           0.325814\n",
       "SOUTH YORKSHIRE                 0.889689\n",
       "SOUTHAMPTON                     0.229150\n",
       "SOUTHEND-ON-SEA                 0.256683\n",
       "STAFFORDSHIRE                   0.772736\n",
       "STOCKTON-ON-TEES                0.105024\n",
       "STOKE-ON-TRENT                  0.120792\n",
       "SUFFOLK                         0.846445\n",
       "SURREY                          2.487673\n",
       "SWANSEA                         0.144610\n",
       "SWINDON                         0.210676\n",
       "THE VALE OF GLAMORGAN           0.106983\n",
       "THURROCK                        0.208041\n",
       "TORBAY                          0.189977\n",
       "TORFAEN                         0.042030\n",
       "TYNE AND WEAR                   0.608903\n",
       "WARRINGTON                      0.160179\n",
       "WARWICKSHIRE                    0.684674\n",
       "WEST BERKSHIRE                  0.215627\n",
       "WEST MIDLANDS                   1.813579\n",
       "WEST SUSSEX                     1.483650\n",
       "WEST YORKSHIRE                  1.596739\n",
       "WILTSHIRE                       0.624375\n",
       "WINDSOR AND MAIDENHEAD          0.315877\n",
       "WOKINGHAM                       0.292156\n",
       "WORCESTERSHIRE                  0.554690\n",
       "WREKIN                          0.121524\n",
       "WREXHAM                         0.069691\n",
       "YORK                            0.236191\n",
       "Name: Price Paid, dtype: float64"
      ]
     },
     "execution_count": 96,
     "metadata": {},
     "output_type": "execute_result"
    }
   ],
   "source": [
    "council"
   ]
  },
  {
   "cell_type": "code",
   "execution_count": 98,
   "metadata": {
    "collapsed": false
   },
   "outputs": [
    {
     "name": "stdout",
     "output_type": "stream",
     "text": [
      "112\n"
     ]
    }
   ],
   "source": [
    "print council.size"
   ]
  },
  {
   "cell_type": "code",
   "execution_count": 99,
   "metadata": {
    "collapsed": false
   },
   "outputs": [
    {
     "data": {
      "text/plain": [
       "pandas.core.series.Series"
      ]
     },
     "execution_count": 99,
     "metadata": {},
     "output_type": "execute_result"
    }
   ],
   "source": [
    "type(council)"
   ]
  },
  {
   "cell_type": "code",
   "execution_count": 100,
   "metadata": {
    "collapsed": false
   },
   "outputs": [
    {
     "data": {
      "text/plain": [
       "68.25346347820569"
      ]
     },
     "execution_count": 100,
     "metadata": {},
     "output_type": "execute_result"
    }
   ],
   "source": [
    "council.sum()"
   ]
  },
  {
   "cell_type": "code",
   "execution_count": 103,
   "metadata": {
    "collapsed": false
   },
   "outputs": [
    {
     "data": {
      "text/plain": [
       "False"
      ]
     },
     "execution_count": 103,
     "metadata": {},
     "output_type": "execute_result"
    }
   ],
   "source": [
    "ld['Council'].isnull().any()"
   ]
  },
  {
   "cell_type": "code",
   "execution_count": 106,
   "metadata": {
    "collapsed": false
   },
   "outputs": [
    {
     "data": {
      "text/plain": [
       "4"
      ]
     },
     "execution_count": 106,
     "metadata": {},
     "output_type": "execute_result"
    }
   ],
   "source": [
    "sum(ld.isnull().any())"
   ]
  },
  {
   "cell_type": "code",
   "execution_count": 107,
   "metadata": {
    "collapsed": false
   },
   "outputs": [
    {
     "data": {
      "text/plain": [
       "1255"
      ]
     },
     "execution_count": 107,
     "metadata": {},
     "output_type": "execute_result"
    }
   ],
   "source": [
    "sum(ld['PostCode'].isnull())"
   ]
  },
  {
   "cell_type": "code",
   "execution_count": null,
   "metadata": {
    "collapsed": true
   },
   "outputs": [],
   "source": []
  }
 ],
 "metadata": {
  "kernelspec": {
   "display_name": "Python 2",
   "language": "python",
   "name": "python2"
  },
  "language_info": {
   "codemirror_mode": {
    "name": "ipython",
    "version": 2
   },
   "file_extension": ".py",
   "mimetype": "text/x-python",
   "name": "python",
   "nbconvert_exporter": "python",
   "pygments_lexer": "ipython2",
   "version": "2.7.13"
  }
 },
 "nbformat": 4,
 "nbformat_minor": 2
}
